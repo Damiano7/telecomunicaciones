{
 "cells": [
  {
   "cell_type": "code",
   "execution_count": 44,
   "metadata": {},
   "outputs": [],
   "source": [
    "# Scrip de Python\n",
    "import pandas as pd\n",
    "import requests\n",
    "\n",
    "# Accedo directamente al CSV ya que la api no devuelve los datasets de las visualizaciones\n",
    "internet_penet_prov = pd.read_csv(\"https://datosabiertos.enacom.gob.ar/rest/datastreams/275028/data.csv\")\n",
    "internet_penet = pd.read_csv(\"https://datosabiertos.enacom.gob.ar/rest/datastreams/281491/data.csv\")\n",
    "internet_tec = pd.read_csv(\"https://datosabiertos.enacom.gob.ar/rest/datastreams/275029/data.csv\")\n",
    "internet_vel = pd.read_csv(\"https://datosabiertos.enacom.gob.ar/rest/datastreams/288059/data.csv\")\n",
    "internet_acc_vel = pd.read_csv(\"https://datosabiertos.enacom.gob.ar/rest/datastreams/280921/data.csv\")\n",
    "internet_map = pd.read_csv(\"https://datosabiertos.enacom.gob.ar/rest/datastreams/277615/data.csv\")\n",
    "\n",
    "# Accedo mediante la API\n",
    "response = requests.get(\"http://api.datosabiertos.enacom.gob.ar/api/v2/datastreams/ACCES-A-INTER-FIJO-POR/data.ajson/?auth_key=9yZFM9svSV3I2epH4ZPwDxtNuXvnoEI8xveLiwiv\")\n",
    "data = response.json()\n",
    "internet_tec_prov = data[\"result\"]\n",
    "# Convierto la primer file en el nombre de las columnas\n",
    "internet_tec_prov = pd.DataFrame(internet_tec_prov)\n",
    "internet_tec_prov.columns = internet_tec_prov.iloc[0]\n",
    "internet_tec_prov = internet_tec_prov[1:]\n",
    "\n",
    "response = requests.get(\"http://api.datosabiertos.enacom.gob.ar/api/v2/datastreams/PENET-TOTAL-NACIO-DE-LA/data.ajson/?auth_key=9yZFM9svSV3I2epH4ZPwDxtNuXvnoEI8xveLiwiv\")\n",
    "data = response.json()\n",
    "telefonia = data[\"result\"]\n",
    "# Convierto la primer file en el nombre de las columnas\n",
    "telefonia = pd.DataFrame(telefonia)\n",
    "telefonia.columns = telefonia.iloc[0]\n",
    "telefonia = telefonia[1:]\n",
    "\n",
    "response = requests.get(\"http://api.datosabiertos.enacom.gob.ar/api/v2/datastreams/PENET-TOTAL-NACIO-DE-55233/data.ajson/?auth_key=9yZFM9svSV3I2epH4ZPwDxtNuXvnoEI8xveLiwiv\")\n",
    "data = response.json()\n",
    "television = data[\"result\"]\n",
    "# Convierto la primer file en el nombre de las columnas\n",
    "television = pd.DataFrame(television)\n",
    "television.columns = television.iloc[0]\n",
    "television = television[1:]"
   ]
  }
 ],
 "metadata": {
  "kernelspec": {
   "display_name": "Python 3.9.13 64-bit (microsoft store)",
   "language": "python",
   "name": "python3"
  },
  "language_info": {
   "codemirror_mode": {
    "name": "ipython",
    "version": 3
   },
   "file_extension": ".py",
   "mimetype": "text/x-python",
   "name": "python",
   "nbconvert_exporter": "python",
   "pygments_lexer": "ipython3",
   "version": "3.9.13"
  },
  "orig_nbformat": 4,
  "vscode": {
   "interpreter": {
    "hash": "13ae2dc201614049a2b4c2c751d6a1c835ca6560fb2dad2f0c0ae5993fa9c2f4"
   }
  }
 },
 "nbformat": 4,
 "nbformat_minor": 2
}
